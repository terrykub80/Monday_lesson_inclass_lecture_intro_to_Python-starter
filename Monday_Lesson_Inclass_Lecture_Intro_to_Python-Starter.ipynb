{
 "cells": [
  {
   "cell_type": "markdown",
   "metadata": {},
   "source": [
    "# Week 2 - Monday Lesson (variable assignment, loops, lists)"
   ]
  },
  {
   "cell_type": "markdown",
   "metadata": {},
   "source": [
    "## Tasks Today:\n",
    "\n",
    "1) Int & Float assignments <br>\n",
    " &nbsp;&nbsp;&nbsp;&nbsp; a) Assigning int <br>\n",
    " &nbsp;&nbsp;&nbsp;&nbsp; b) Assigning float <br>\n",
    " &nbsp;&nbsp;&nbsp;&nbsp; c) Performing Calculations on ints and floats <br>\n",
    " &nbsp;&nbsp;&nbsp;&nbsp;&nbsp;&nbsp;&nbsp;&nbsp; - Addition <br>\n",
    " &nbsp;&nbsp;&nbsp;&nbsp;&nbsp;&nbsp;&nbsp;&nbsp; - Subtraction <br>\n",
    " &nbsp;&nbsp;&nbsp;&nbsp;&nbsp;&nbsp;&nbsp;&nbsp; - Multiplication <br>\n",
    " &nbsp;&nbsp;&nbsp;&nbsp;&nbsp;&nbsp;&nbsp;&nbsp; - Division <br>\n",
    " &nbsp;&nbsp;&nbsp;&nbsp;&nbsp;&nbsp;&nbsp;&nbsp; - Floor Division <br>\n",
    " &nbsp;&nbsp;&nbsp;&nbsp;&nbsp;&nbsp;&nbsp;&nbsp; - Modulo <br>\n",
    " &nbsp;&nbsp;&nbsp;&nbsp;&nbsp;&nbsp;&nbsp;&nbsp; - Exponential <br>\n",
    "2) String Input-Output <br>\n",
    " &nbsp;&nbsp;&nbsp;&nbsp; a) String Assignment <br>\n",
    " &nbsp;&nbsp;&nbsp;&nbsp; b) print() <br>\n",
    " &nbsp;&nbsp;&nbsp;&nbsp; c) String Concatenation <br>\n",
    " &nbsp;&nbsp;&nbsp;&nbsp; d) Escape Characters <br>\n",
    " &nbsp;&nbsp;&nbsp;&nbsp; e) Type Conversion <br>\n",
    " &nbsp;&nbsp;&nbsp;&nbsp; f) format() <br>\n",
    " &nbsp;&nbsp;&nbsp;&nbsp; g) Old Way (python 2) <br>\n",
    "3) <b>In-Class Exercise #1</b> <br>\n",
    "4) Booleans <br>\n",
    "5) If Statements <br>\n",
    " &nbsp;&nbsp;&nbsp;&nbsp; a) syntax <br>\n",
    " &nbsp;&nbsp;&nbsp;&nbsp; b) truth tree <br>\n",
    " &nbsp;&nbsp;&nbsp;&nbsp; c) and/or <br>\n",
    " &nbsp;&nbsp;&nbsp;&nbsp; d) elif <br>\n",
    " &nbsp;&nbsp;&nbsp;&nbsp; 3) else <br>\n",
    "6) <b>In-Class Exercise #2</b> <br>\n",
    "7) Lists <br>\n",
    " &nbsp;&nbsp;&nbsp;&nbsp; a) Declaring Lists <br>\n",
    " &nbsp;&nbsp;&nbsp;&nbsp; b) Indexing a List <br>\n",
    " &nbsp;&nbsp;&nbsp;&nbsp; c) .append() <br>\n",
    " &nbsp;&nbsp;&nbsp;&nbsp; d) .insert() <br>\n",
    " &nbsp;&nbsp;&nbsp;&nbsp; e) .pop() <br>\n",
    " &nbsp;&nbsp;&nbsp;&nbsp; f) .remove() <br>\n",
    " &nbsp;&nbsp;&nbsp;&nbsp; g) del() <br>\n",
    " &nbsp;&nbsp;&nbsp;&nbsp; h) Concatenating Two Lists <br>\n",
    " &nbsp;&nbsp;&nbsp;&nbsp; i) Lists Within Lists <br>\n",
    " &nbsp;&nbsp;&nbsp;&nbsp; j) Looping Through Lists <br>\n",
    "8) For Loops <br>\n",
    " &nbsp;&nbsp;&nbsp;&nbsp; a) Using 'in' keyword <br>\n",
    " &nbsp;&nbsp;&nbsp;&nbsp; b) Continue Statement <br>\n",
    " &nbsp;&nbsp;&nbsp;&nbsp; c) Break Statement <br>\n",
    " &nbsp;&nbsp;&nbsp;&nbsp; d) Pass Statement <br>\n",
    " &nbsp;&nbsp;&nbsp;&nbsp; e) Double For Loops <br>\n",
    "9) While Loops <br>\n",
    " &nbsp;&nbsp;&nbsp;&nbsp; a) Looping 'While True' <br>\n",
    " &nbsp;&nbsp;&nbsp;&nbsp; b) While and For Loops Used Together <br>\n",
    "10) Built-In Functions <br>\n",
    " &nbsp;&nbsp;&nbsp;&nbsp; a) input() <br>\n",
    " &nbsp;&nbsp;&nbsp;&nbsp; b) range() <br>\n",
    " &nbsp;&nbsp;&nbsp;&nbsp; b) len() <br>\n",
    " &nbsp;&nbsp;&nbsp;&nbsp; c) help() <br>\n",
    " &nbsp;&nbsp;&nbsp;&nbsp; d) isinstance() <br>\n",
    "12) Try and Except <br>\n"
   ]
  },
  {
   "cell_type": "markdown",
   "metadata": {},
   "source": [
    "### Int & Float Assignments"
   ]
  },
  {
   "cell_type": "markdown",
   "metadata": {},
   "source": [
    "##### Assigning int"
   ]
  },
  {
   "cell_type": "code",
   "execution_count": 3,
   "metadata": {},
   "outputs": [
    {
     "name": "stdout",
     "output_type": "stream",
     "text": [
      "3542\n",
      "<class 'int'>\n"
     ]
    }
   ],
   "source": [
    "num_int = 3542\n",
    "\n",
    "print (num_int)\n",
    "print (type(num_int))"
   ]
  },
  {
   "cell_type": "markdown",
   "metadata": {},
   "source": [
    "##### Assinging float"
   ]
  },
  {
   "cell_type": "markdown",
   "metadata": {},
   "source": [
    "The decimal (.) is what tells python to make this a float"
   ]
  },
  {
   "cell_type": "code",
   "execution_count": 4,
   "metadata": {},
   "outputs": [
    {
     "name": "stdout",
     "output_type": "stream",
     "text": [
      "315.234\n",
      "<class 'float'>\n"
     ]
    }
   ],
   "source": [
    "num_float = 315.234\n",
    "\n",
    "print(num_float)\n",
    "print(type(num_float))"
   ]
  },
  {
   "cell_type": "markdown",
   "metadata": {},
   "source": [
    "#### Performing Calculations on ints and floats"
   ]
  },
  {
   "cell_type": "markdown",
   "metadata": {},
   "source": [
    "##### Addition"
   ]
  },
  {
   "cell_type": "code",
   "execution_count": 10,
   "metadata": {},
   "outputs": [
    {
     "name": "stdout",
     "output_type": "stream",
     "text": [
      "7\n",
      "<class 'int'>\n",
      "17\n",
      "<class 'int'>\n"
     ]
    }
   ],
   "source": [
    "num1 = 2\n",
    "num2 = 5\n",
    "\n",
    "# int + in = int\n",
    "# int + float = float\n",
    "#float + float = float\n",
    "\n",
    "result= num1 + num2\n",
    "\n",
    "print(result)\n",
    "print(type(result))\n",
    "\n",
    "# short-hand version\n",
    "result += 10      #result = result + 10\n",
    "print(result)\n",
    "print(type(result))"
   ]
  },
  {
   "cell_type": "markdown",
   "metadata": {},
   "source": [
    "##### Subtraction"
   ]
  },
  {
   "cell_type": "code",
   "execution_count": 13,
   "metadata": {},
   "outputs": [
    {
     "name": "stdout",
     "output_type": "stream",
     "text": [
      "3\n",
      "2\n"
     ]
    }
   ],
   "source": [
    "result_diff = num2 - num1\n",
    "print(result_diff)\n",
    "\n",
    "# short-hand version\n",
    "result_diff -= 1    #result_diff = result_diff -1\n",
    "print(result_diff)"
   ]
  },
  {
   "cell_type": "markdown",
   "metadata": {},
   "source": [
    "##### Multiplication"
   ]
  },
  {
   "cell_type": "code",
   "execution_count": 14,
   "metadata": {},
   "outputs": [
    {
     "name": "stdout",
     "output_type": "stream",
     "text": [
      "10\n",
      "50\n"
     ]
    }
   ],
   "source": [
    "result_prod = num1 * num2\n",
    "print(result_prod)\n",
    "\n",
    "# short-hand version\n",
    "result_prod *= 5   #result_prod = result_prd * 5\n",
    "print(result_prod)"
   ]
  },
  {
   "cell_type": "markdown",
   "metadata": {},
   "source": [
    "##### Division"
   ]
  },
  {
   "cell_type": "code",
   "execution_count": 15,
   "metadata": {},
   "outputs": [
    {
     "name": "stdout",
     "output_type": "stream",
     "text": [
      "2.5\n",
      "2.0\n",
      "<class 'float'>\n"
     ]
    }
   ],
   "source": [
    "result_div = num2/num1\n",
    "print(result_div)\n",
    "\n",
    "# short-hand version\n",
    "new_result = 20/10\n",
    "print(new_result)\n",
    "print(type(new_result))\n",
    "#  division always results in a float"
   ]
  },
  {
   "cell_type": "markdown",
   "metadata": {},
   "source": [
    "##### Floor Division"
   ]
  },
  {
   "cell_type": "code",
   "execution_count": 19,
   "metadata": {},
   "outputs": [
    {
     "name": "stdout",
     "output_type": "stream",
     "text": [
      "1.0\n",
      "<class 'float'>\n"
     ]
    }
   ],
   "source": [
    "# Sometime referred to as 'Integer Division'\n",
    "# will return highest number without remainders (essentially deletes all numbers after (.))\n",
    "\n",
    "result_floor = num2 // num1\n",
    "print(result_floor)\n",
    "print(type(result_floor))\n"
   ]
  },
  {
   "cell_type": "markdown",
   "metadata": {},
   "source": [
    "##### Modulo"
   ]
  },
  {
   "cell_type": "code",
   "execution_count": 24,
   "metadata": {},
   "outputs": [
    {
     "name": "stdout",
     "output_type": "stream",
     "text": [
      "1\n",
      "<class 'int'>\n"
     ]
    }
   ],
   "source": [
    "# returns remainder of division expression\n",
    "num3 = 46\n",
    "num4 = 5\n",
    "\n",
    "result_mod = num3 % num4\n",
    "print(result_mod)\n",
    "print(type(result_mod))"
   ]
  },
  {
   "cell_type": "markdown",
   "metadata": {},
   "source": [
    "##### Exponential"
   ]
  },
  {
   "cell_type": "code",
   "execution_count": 26,
   "metadata": {},
   "outputs": [
    {
     "name": "stdout",
     "output_type": "stream",
     "text": [
      "32\n",
      "<class 'int'>\n"
     ]
    }
   ],
   "source": [
    "# use a **\n",
    "num1 = 2\n",
    "num2 = 5\n",
    "square = num1 ** num2\n",
    "print(square)\n",
    "print(type(square))"
   ]
  },
  {
   "cell_type": "markdown",
   "metadata": {},
   "source": [
    "### String Input-Output"
   ]
  },
  {
   "cell_type": "markdown",
   "metadata": {},
   "source": [
    "##### String Assignment"
   ]
  },
  {
   "cell_type": "code",
   "execution_count": 28,
   "metadata": {},
   "outputs": [
    {
     "name": "stdout",
     "output_type": "stream",
     "text": [
      "Terry\n",
      "<class 'str'>\n"
     ]
    }
   ],
   "source": [
    "name1 = \"Terry\"\n",
    "print(name1)\n",
    "print(type(name1))"
   ]
  },
  {
   "cell_type": "code",
   "execution_count": 29,
   "metadata": {},
   "outputs": [
    {
     "name": "stdout",
     "output_type": "stream",
     "text": [
      "Kubalewski\n"
     ]
    }
   ],
   "source": [
    "# Can use \" or '\n",
    "name2 = 'Kubalewski'\n",
    "print(name2)"
   ]
  },
  {
   "cell_type": "code",
   "execution_count": 31,
   "metadata": {},
   "outputs": [
    {
     "ename": "SyntaxError",
     "evalue": "EOL while scanning string literal (1148354981.py, line 2)",
     "output_type": "error",
     "traceback": [
      "\u001b[1;36m  Input \u001b[1;32mIn [31]\u001b[1;36m\u001b[0m\n\u001b[1;33m    contraction1 = \"You cannot do this'\u001b[0m\n\u001b[1;37m                                       ^\u001b[0m\n\u001b[1;31mSyntaxError\u001b[0m\u001b[1;31m:\u001b[0m EOL while scanning string literal\n"
     ]
    }
   ],
   "source": [
    "# Cannot mix \" and ' or add in ' when started with '\n",
    "contraction1 = \"You cannot do this'\n",
    "contraction2 = 'You can't do this either\n",
    "print(contraction1)\n",
    "print(contraction2)"
   ]
  },
  {
   "cell_type": "code",
   "execution_count": null,
   "metadata": {},
   "outputs": [],
   "source": []
  },
  {
   "cell_type": "code",
   "execution_count": null,
   "metadata": {},
   "outputs": [],
   "source": []
  },
  {
   "cell_type": "markdown",
   "metadata": {},
   "source": [
    "##### Escape Characters"
   ]
  },
  {
   "cell_type": "code",
   "execution_count": 32,
   "metadata": {},
   "outputs": [
    {
     "name": "stdout",
     "output_type": "stream",
     "text": [
      "You can't do that\n"
     ]
    }
   ],
   "source": [
    "# use a \\ when adding ' into '\n",
    "contraction3 = 'You can\\'t do that'\n",
    "print(contraction3)"
   ]
  },
  {
   "cell_type": "code",
   "execution_count": null,
   "metadata": {},
   "outputs": [],
   "source": []
  },
  {
   "cell_type": "code",
   "execution_count": null,
   "metadata": {},
   "outputs": [],
   "source": []
  },
  {
   "cell_type": "code",
   "execution_count": 35,
   "metadata": {},
   "outputs": [],
   "source": [
    "# \\n - new line character"
   ]
  },
  {
   "cell_type": "code",
   "execution_count": null,
   "metadata": {},
   "outputs": [],
   "source": [
    "# \\t - tab character\n"
   ]
  },
  {
   "cell_type": "code",
   "execution_count": 36,
   "metadata": {},
   "outputs": [
    {
     "name": "stdout",
     "output_type": "stream",
     "text": [
      "Hellon\\thow are you\n"
     ]
    }
   ],
   "source": [
    "# Raw String\n",
    "print(r\"Hellon\\thow are you\")\n"
   ]
  },
  {
   "cell_type": "markdown",
   "metadata": {},
   "source": [
    "##### String Concatenation"
   ]
  },
  {
   "cell_type": "code",
   "execution_count": 42,
   "metadata": {},
   "outputs": [
    {
     "name": "stdout",
     "output_type": "stream",
     "text": [
      "John Smith\n",
      "John Smith, Jr.\n"
     ]
    }
   ],
   "source": [
    "first_name = \"john\"\n",
    "last_name = \"smith\"\n",
    "full_name = first_name + \" \" + last_name\n",
    "\n",
    "print(full_name.title())\n",
    "\n",
    "full_name += \", JR.\"\n",
    "print(full_name.title())"
   ]
  },
  {
   "cell_type": "code",
   "execution_count": 46,
   "metadata": {},
   "outputs": [
    {
     "name": "stdout",
     "output_type": "stream",
     "text": [
      "1010\n"
     ]
    }
   ],
   "source": [
    "num_a = 10\n",
    "num_b = \"10\"\n",
    "\n",
    "num_c = num_a + int(num_b)\n",
    "print(num_c)"
   ]
  },
  {
   "cell_type": "markdown",
   "metadata": {},
   "source": [
    "##### Type Conversion"
   ]
  },
  {
   "cell_type": "code",
   "execution_count": null,
   "metadata": {
    "scrolled": true
   },
   "outputs": [],
   "source": [
    "# adding int or str before variable to change it from one to the other"
   ]
  },
  {
   "cell_type": "code",
   "execution_count": null,
   "metadata": {},
   "outputs": [],
   "source": []
  },
  {
   "cell_type": "markdown",
   "metadata": {},
   "source": [
    "##### .format() and f-strings"
   ]
  },
  {
   "cell_type": "code",
   "execution_count": 64,
   "metadata": {},
   "outputs": [
    {
     "name": "stdout",
     "output_type": "stream",
     "text": [
      "Hello, my name is Terry and I am from Bama!\n",
      "Hello, my name is Terry and I am from Bama!\n"
     ]
    }
   ],
   "source": [
    "name = \"terry\"\n",
    "home = \"bama\"\n",
    "\n",
    "print(\"Hello, my name is {} and I am from {}\" .format(name.title(), home.title()) + \"!\")\n",
    "print(f\"Hello, my name is {name.title()} and I am from {home.title()}\" + \"!\")"
   ]
  },
  {
   "cell_type": "code",
   "execution_count": null,
   "metadata": {},
   "outputs": [],
   "source": []
  },
  {
   "cell_type": "markdown",
   "metadata": {},
   "source": [
    "##### Old Way (python 2)"
   ]
  },
  {
   "cell_type": "code",
   "execution_count": 68,
   "metadata": {},
   "outputs": [
    {
     "name": "stdout",
     "output_type": "stream",
     "text": [
      "Hello, my name is Terry and I am from Bama\n"
     ]
    }
   ],
   "source": [
    "print(\"Hello, my name is %s and I am from %s\" %(name.title(), home.title()))"
   ]
  },
  {
   "cell_type": "code",
   "execution_count": null,
   "metadata": {
    "scrolled": true
   },
   "outputs": [],
   "source": []
  },
  {
   "cell_type": "markdown",
   "metadata": {},
   "source": [
    "# In-Class Exercise 1 <br>\n",
    "<p>Increase the year by 1 and then print out the following statement using type conversion and a formatted string</p>"
   ]
  },
  {
   "cell_type": "code",
   "execution_count": 74,
   "metadata": {},
   "outputs": [
    {
     "name": "stdout",
     "output_type": "stream",
     "text": [
      "I drive a blue 2023 Ford Focus.\n",
      "I drive a blue 2023 Ford Focus\n"
     ]
    }
   ],
   "source": [
    "#OUTPUT:  I drive a blue 2023 Ford Focus.\n",
    "color = 'blue'\n",
    "make = 'Ford'\n",
    "year = '2022'\n",
    "model = 'Focus'\n",
    "\n",
    "\n",
    "\n",
    "print(f\"I drive a {color} {int(year) + 1} {make} {model}.\")\n",
    "\n",
    "print(\"I drive a {} {} {} {}\".format(color, int(year) + 1 , make, model))\n",
    "\n",
    "\n"
   ]
  },
  {
   "cell_type": "markdown",
   "metadata": {},
   "source": [
    "### Booleans"
   ]
  },
  {
   "cell_type": "code",
   "execution_count": 76,
   "metadata": {},
   "outputs": [
    {
     "name": "stdout",
     "output_type": "stream",
     "text": [
      "False\n",
      "<class 'bool'>\n"
     ]
    }
   ],
   "source": [
    "bool_true = True\n",
    "\n",
    "print(bool_true)\n",
    "print(type(bool_true))"
   ]
  },
  {
   "cell_type": "code",
   "execution_count": 77,
   "metadata": {},
   "outputs": [
    {
     "name": "stdout",
     "output_type": "stream",
     "text": [
      "False\n",
      "<class 'bool'>\n"
     ]
    }
   ],
   "source": [
    "bool_false = False\n",
    "\n",
    "print(bool_false)\n",
    "print(type(bool_false))"
   ]
  },
  {
   "cell_type": "markdown",
   "metadata": {},
   "source": [
    "### If Statements"
   ]
  },
  {
   "cell_type": "code",
   "execution_count": 80,
   "metadata": {},
   "outputs": [
    {
     "name": "stdout",
     "output_type": "stream",
     "text": [
      "Hello, this is true.\n"
     ]
    }
   ],
   "source": [
    "# if <expression>:\n",
    "#     <statement>\n",
    "\n",
    "if True:\n",
    "    print(\"Hello, this is true.\")\n",
    "\n",
    "if False:\n",
    "    print(\"Hello, this is false.\")"
   ]
  },
  {
   "cell_type": "code",
   "execution_count": null,
   "metadata": {},
   "outputs": [],
   "source": []
  },
  {
   "cell_type": "code",
   "execution_count": null,
   "metadata": {},
   "outputs": [],
   "source": []
  },
  {
   "cell_type": "code",
   "execution_count": 82,
   "metadata": {},
   "outputs": [
    {
     "name": "stdout",
     "output_type": "stream",
     "text": [
      "False\n",
      "True\n",
      "True\n"
     ]
    }
   ],
   "source": [
    "# Available operators: Greater(>), Less(<), Equal(==)\n",
    "# Greater or Equal(>=), Less or Equal (<=), Not Equal (!=)\n",
    "\n",
    "num1 = 10\n",
    "num2 = 5\n",
    "num3 = 2\n",
    "\n",
    "print(num1 < num2)\n",
    "print(num1 == num2 * num3)\n",
    "print(num1 != num3)\n",
    "\n"
   ]
  },
  {
   "cell_type": "code",
   "execution_count": 84,
   "metadata": {},
   "outputs": [
    {
     "name": "stdout",
     "output_type": "stream",
     "text": [
      "numb2 is less than num1\n"
     ]
    }
   ],
   "source": [
    "if num1 < num2:\n",
    "    print(\"num1 is less than num2\")\n",
    "    \n",
    "if num2 < num1:\n",
    "    print(\"numb2 is less than num1\")"
   ]
  },
  {
   "cell_type": "markdown",
   "metadata": {},
   "source": [
    "## Using 'and'/'or' with If Statements"
   ]
  },
  {
   "cell_type": "code",
   "execution_count": 89,
   "metadata": {},
   "outputs": [
    {
     "name": "stdout",
     "output_type": "stream",
     "text": [
      "Reject student\n"
     ]
    }
   ],
   "source": [
    "# Truth Tree:\n",
    "# T and T = T\n",
    "# T and F = F\n",
    "# F and F = F\n",
    "# T or T = T\n",
    "# T or F = T\n",
    "# F or F = F\n",
    "\n",
    "potential_candidate_gpa = 3.1\n",
    "potential_candidate_act = 25\n",
    "\n",
    "if potential_candidate_gpa > 2.5 and potential_candidate_act > 25:\n",
    "    print(\"Pass student along\")\n",
    "else:\n",
    "    print(\"Reject student\")"
   ]
  },
  {
   "cell_type": "markdown",
   "metadata": {},
   "source": [
    "### Else Statements"
   ]
  },
  {
   "cell_type": "code",
   "execution_count": 94,
   "metadata": {},
   "outputs": [
    {
     "name": "stdout",
     "output_type": "stream",
     "text": [
      "Pass student along\n"
     ]
    }
   ],
   "source": [
    "# An else statement runs when the if statement above it evaluates to False\n",
    "\n",
    "potential_candidate_gpa = 2.3\n",
    "potential_candidate_act = 27\n",
    "\n",
    "if potential_candidate_gpa > 2.5 or potential_candidate_act > 25:\n",
    "    print(\"Pass student along\")\n",
    "else:\n",
    "    print(\"Reject student\")\n"
   ]
  },
  {
   "cell_type": "markdown",
   "metadata": {},
   "source": [
    "### Elif Statements"
   ]
  },
  {
   "cell_type": "code",
   "execution_count": 104,
   "metadata": {},
   "outputs": [
    {
     "name": "stdout",
     "output_type": "stream",
     "text": [
      "You barely made it! Enjoy the ride!\n"
     ]
    }
   ],
   "source": [
    "# An elif only runs when the if (or elif) directly above it evaluates to False\n",
    "\n",
    "req_height = 60\n",
    "rider_height = 60\n",
    "\n",
    "if rider_height > req_height:\n",
    "    print(\"Enjoy the ride!\")\n",
    "elif rider_height == req_height:\n",
    "    print(\"You barely made it! Enjoy the ride!\")\n",
    "else:\n",
    "    print(\"Sorry, you're not tall enough to ride the ride!\")\n",
    "\n",
    "\n"
   ]
  },
  {
   "cell_type": "code",
   "execution_count": null,
   "metadata": {},
   "outputs": [],
   "source": []
  },
  {
   "cell_type": "markdown",
   "metadata": {},
   "source": [
    "### In-Class Exercise 2 <br>\n",
    "<p>Write a program that will check a person's age and adjust the ticket price. Regular ticket price is $10. Seniors (65+) get 25 percent off and children (under 0-9) are half off. Print out the ticket price at the end</p>"
   ]
  },
  {
   "cell_type": "code",
   "execution_count": 131,
   "metadata": {},
   "outputs": [
    {
     "name": "stdout",
     "output_type": "stream",
     "text": [
      "Your ticket is $10\n"
     ]
    }
   ],
   "source": [
    "\n",
    "ticket = 10\n",
    "# person_age = 72 # Output: Your ticket is $7.50\n",
    "# person_age = 47 # Output: Your ticket is $10\n",
    "# person_age = 8 # Output: Your ticket is $5.00\n",
    "\n",
    "\n",
    "person_age = 55\n",
    "\n",
    "if person_age >= 65:\n",
    "    print(\"Your ticket is $7.50\")\n",
    "elif person_age >= 9:\n",
    "    print(\"Your ticket is $10\")\n",
    "else:\n",
    "    print(\"Your ticket is $5.00\")\n",
    "\n",
    "\n"
   ]
  },
  {
   "cell_type": "markdown",
   "metadata": {},
   "source": [
    "### Lists"
   ]
  },
  {
   "cell_type": "markdown",
   "metadata": {},
   "source": [
    "##### Declaring Lists"
   ]
  },
  {
   "cell_type": "code",
   "execution_count": 179,
   "metadata": {},
   "outputs": [
    {
     "name": "stdout",
     "output_type": "stream",
     "text": [
      "[]\n",
      "<class 'list'>\n",
      "\n",
      "\n",
      "['Max', 'Catherine', 'Adam', 'Margo', 'James', 'Penelope']\n",
      "<class 'list'>\n"
     ]
    }
   ],
   "source": [
    "list_1 = [] # Empty List\n",
    "print(list_1)\n",
    "print(type(list_1))\n",
    "print(\"\\n\")\n",
    "names = ['Max', 'Catherine', 'Adam', 'Margo', 'James', 'Penelope']\n",
    "print(names)\n",
    "print(type(names))"
   ]
  },
  {
   "cell_type": "markdown",
   "metadata": {},
   "source": [
    "##### Indexing a List"
   ]
  },
  {
   "cell_type": "code",
   "execution_count": 180,
   "metadata": {},
   "outputs": [
    {
     "name": "stdout",
     "output_type": "stream",
     "text": [
      "Max\n",
      "\n",
      "\n",
      "['Catherine', 'Adam', 'Margo', 'James', 'Penelope']\n",
      "\n",
      "\n",
      "['Max', 'Catherine', 'Adam']\n",
      "\n",
      "\n",
      "['Max', 'Catherine', 'Adam', 'Margo', 'James', 'Penelope']\n",
      "\n",
      "\n",
      "['Max', 'Adam', 'James']\n",
      "\n",
      "\n",
      "Penelope\n",
      "\n",
      "\n",
      "['Penelope', 'James', 'Margo', 'Adam', 'Catherine', 'Max']\n",
      "\n",
      "\n",
      "['Catherine', 'Margo']\n"
     ]
    }
   ],
   "source": [
    "# list[start: stop: step] * start is inclusive, stop is exclusive\n",
    "# lists are a 0-based index (starts with 0)\n",
    "\n",
    "# Single Index\n",
    "print(names[0])\n",
    "print(\"\\n\")\n",
    "\n",
    "# Slice list at index 1 all the way to the end\n",
    "print(names[1:])\n",
    "print(\"\\n\")\n",
    "\n",
    "# Slice from beginning up to, but not included, specific spot\n",
    "print(names[:3])\n",
    "print(\"\\n\")\n",
    "\n",
    "# Slice the whole list -> Make a copy\n",
    "print(names[:])\n",
    "print(\"\\n\")\n",
    "\n",
    "\n",
    "# Slice every other element\n",
    "print(names[::2])\n",
    "print(\"\\n\")\n",
    "\n",
    "# Nexative numbers start from the back\n",
    "print(names[-1])\n",
    "print(\"\\n\")\n",
    "\n",
    "# Nexative step will walk backwards through the list\n",
    "print(names[::-1])\n",
    "print(\"\\n\")\n",
    "\n",
    "# Some combo of all\n",
    "print(names[1:4:2])"
   ]
  },
  {
   "cell_type": "code",
   "execution_count": 181,
   "metadata": {},
   "outputs": [
    {
     "name": "stdout",
     "output_type": "stream",
     "text": [
      "['Max', 'Catherine', 'Adam', 'Margo', 'James', 'Penelope']\n",
      "['Max', 'Kathy', 'Adam', 'Margo', 'James', 'Penelope']\n"
     ]
    }
   ],
   "source": [
    "# Lists are mutable (can change the values)\n",
    "# Item assignment - list[index] = value\n",
    "\n",
    "print(names)\n",
    "names[1] = 'Kathy'\n",
    "print(names)"
   ]
  },
  {
   "cell_type": "markdown",
   "metadata": {},
   "source": [
    "##### .append()"
   ]
  },
  {
   "cell_type": "code",
   "execution_count": 182,
   "metadata": {},
   "outputs": [
    {
     "name": "stdout",
     "output_type": "stream",
     "text": [
      "['Max', 'Kathy', 'Adam', 'Margo', 'James', 'Penelope']\n",
      "\n",
      "\n",
      "['Max', 'Kathy', 'Adam', 'Margo', 'James', 'Penelope', 'Frank']\n"
     ]
    }
   ],
   "source": [
    "# list.append(value_to_append) - add the value to the END of the list\n",
    "\n",
    "print(names)\n",
    "print(\"\\n\")\n",
    "\n",
    "names.append('Frank')\n",
    "print(names)"
   ]
  },
  {
   "cell_type": "markdown",
   "metadata": {},
   "source": [
    "##### .insert()"
   ]
  },
  {
   "cell_type": "code",
   "execution_count": 183,
   "metadata": {},
   "outputs": [
    {
     "name": "stdout",
     "output_type": "stream",
     "text": [
      "['Max', 'Kathy', 'Adam', 'Margo', 'James', 'Penelope', 'Frank']\n",
      "['Max', 'Kathy', 'Adam', 'Henry', 'Margo', 'James', 'Penelope', 'Frank']\n"
     ]
    }
   ],
   "source": [
    "# list.insert(index,value) - add value to list at index and move everything after back one\n",
    "\n",
    "print(names)\n",
    "\n",
    "names.insert(3, 'Henry')\n",
    "\n",
    "print(names)"
   ]
  },
  {
   "cell_type": "markdown",
   "metadata": {},
   "source": [
    "##### .pop()"
   ]
  },
  {
   "cell_type": "code",
   "execution_count": 184,
   "metadata": {},
   "outputs": [
    {
     "name": "stdout",
     "output_type": "stream",
     "text": [
      "['Max', 'Kathy', 'Adam', 'Henry', 'Margo', 'James', 'Penelope', 'Frank']\n",
      "['Max', 'Kathy', 'Adam', 'Henry', 'Margo', 'James', 'Penelope']\n",
      "Frank\n"
     ]
    }
   ],
   "source": [
    "# list.pop(index) - removes element at index \n",
    "# default is the last value if no parameter is given\n",
    "# pop returns the element that was removed in case you want to assign it into a variable\n",
    "\n",
    "print(names)\n",
    "removed_name = names.pop()\n",
    "print(names)\n",
    "print(removed_name)\n",
    "\n",
    "\n"
   ]
  },
  {
   "cell_type": "markdown",
   "metadata": {},
   "source": [
    "\n",
    "##### .remove()"
   ]
  },
  {
   "cell_type": "code",
   "execution_count": 185,
   "metadata": {},
   "outputs": [
    {
     "name": "stdout",
     "output_type": "stream",
     "text": [
      "['Max', 'Kathy', 'Adam', 'Henry', 'Margo', 'James', 'Penelope']\n"
     ]
    }
   ],
   "source": [
    "# list.remove(value) - value to be removed , not index\n",
    "print(names)\n"
   ]
  },
  {
   "cell_type": "markdown",
   "metadata": {},
   "source": [
    "***.count()***"
   ]
  },
  {
   "cell_type": "code",
   "execution_count": 186,
   "metadata": {},
   "outputs": [
    {
     "name": "stdout",
     "output_type": "stream",
     "text": [
      "1\n"
     ]
    }
   ],
   "source": [
    "# list.count(value) - return the count of value in list\n",
    "\n",
    "print(names.count('Max'))\n"
   ]
  },
  {
   "cell_type": "markdown",
   "metadata": {},
   "source": [
    "***.index()***"
   ]
  },
  {
   "cell_type": "code",
   "execution_count": 187,
   "metadata": {},
   "outputs": [
    {
     "name": "stdout",
     "output_type": "stream",
     "text": [
      "5\n"
     ]
    }
   ],
   "source": [
    "# list.index(value)\n",
    "\n",
    "print(names.index('James'))"
   ]
  },
  {
   "cell_type": "markdown",
   "metadata": {},
   "source": [
    "##### del()"
   ]
  },
  {
   "cell_type": "code",
   "execution_count": 189,
   "metadata": {},
   "outputs": [
    {
     "name": "stdout",
     "output_type": "stream",
     "text": [
      "['Max', 'Kathy', 'Adam', 'Henry', 'James', 'Penelope']\n"
     ]
    }
   ],
   "source": [
    "# index to be removed, not value\n",
    "# BE CAREFUL with del, can cause indexing errors if not used carefully\n",
    "\n",
    "del names[4]\n",
    "\n",
    "print(names)\n"
   ]
  },
  {
   "cell_type": "markdown",
   "metadata": {},
   "source": [
    "***.clear()***"
   ]
  },
  {
   "cell_type": "code",
   "execution_count": 190,
   "metadata": {},
   "outputs": [
    {
     "name": "stdout",
     "output_type": "stream",
     "text": [
      "[]\n"
     ]
    }
   ],
   "source": [
    "# removes all values from the list\n",
    "\n",
    "names.clear()\n",
    "\n",
    "print(names)"
   ]
  },
  {
   "cell_type": "markdown",
   "metadata": {},
   "source": [
    "##### Concatenating Two Lists"
   ]
  },
  {
   "cell_type": "code",
   "execution_count": 191,
   "metadata": {},
   "outputs": [
    {
     "name": "stdout",
     "output_type": "stream",
     "text": [
      "[1, 2, 3, 4, 5, 6]\n"
     ]
    }
   ],
   "source": [
    "# will append two lists together, not add up the elements in each list\n",
    "\n",
    "list_a = [1,2,3]\n",
    "list_b = [4,5,6]\n",
    "list_c = list_a + list_b\n",
    "\n",
    "print(list_c)"
   ]
  },
  {
   "cell_type": "markdown",
   "metadata": {},
   "source": [
    "##### Lists Within Lists"
   ]
  },
  {
   "cell_type": "code",
   "execution_count": 197,
   "metadata": {},
   "outputs": [
    {
     "name": "stdout",
     "output_type": "stream",
     "text": [
      "['Max', 'Sam', 'Josh', ['Sally', 'Sue', 'Topanga']]\n",
      "['Sally', 'Sue', 'Topanga']\n",
      "<class 'list'>\n",
      "Sally\n",
      "['Max', 'Sam', 'Josh', ['Sally', 'Sue', 'Topanga', 'Cory']]\n"
     ]
    }
   ],
   "source": [
    "# Lists are able to hold any type of element, including OTHER lists themsevles\n",
    "# they can also go as deep as you want, having many lists nested inside of each other\n",
    "\n",
    "names = ['Max', 'Sam', 'Josh', ['Sally', 'Sue', 'Topanga']]\n",
    "\n",
    "print(names)\n",
    "print(names[3])\n",
    "print(type(names[3]))\n",
    "print(names[3][0])\n",
    "\n",
    "names[3].append('Cory')\n",
    "print(names)\n"
   ]
  },
  {
   "cell_type": "markdown",
   "metadata": {},
   "source": [
    "### For Loops"
   ]
  },
  {
   "cell_type": "code",
   "execution_count": 203,
   "metadata": {},
   "outputs": [
    {
     "name": "stdout",
     "output_type": "stream",
     "text": [
      "Begin loop -\n",
      "5\n",
      "10\n",
      "15\n",
      "20\n",
      "25\n",
      "30\n",
      "35\n",
      "40\n",
      "- End loop\n",
      "\n",
      "\n",
      "15\n",
      "30\n",
      "45\n",
      "60\n",
      "75\n",
      "90\n",
      "105\n",
      "120\n"
     ]
    }
   ],
   "source": [
    "# for <keyword> in <iterable>:\n",
    "#     <statement>\n",
    "\n",
    "print(\"Begin loop -\")\n",
    "for x in [5, 10, 15, 20, 25, 30, 35, 40]:\n",
    "    print(x)\n",
    "print(\"- End loop\")\n",
    "    \n",
    "print(\"\\n\")\n",
    "\n",
    "for x in [5, 10, 15, 20, 25, 30, 35, 40]:\n",
    "    print(x*3)\n"
   ]
  },
  {
   "cell_type": "code",
   "execution_count": 205,
   "metadata": {},
   "outputs": [
    {
     "name": "stdout",
     "output_type": "stream",
     "text": [
      "Red is a color.\n",
      "Orange is a color.\n",
      "Yellow is a color.\n",
      "Green is a color.\n",
      "Blue is a color.\n",
      "Indigo is a color.\n",
      "Violet is a color.\n"
     ]
    }
   ],
   "source": [
    "colors = ['red', 'orange', 'yellow', 'green', 'blue', 'indigo', 'violet']\n",
    "\n",
    "for color in colors:\n",
    "    print(color.title() + \" is a color.\")"
   ]
  },
  {
   "cell_type": "markdown",
   "metadata": {},
   "source": [
    "##### Continue Statement"
   ]
  },
  {
   "cell_type": "code",
   "execution_count": 215,
   "metadata": {},
   "outputs": [],
   "source": [
    "list_to_use = [10, 20, 30, 40, 50, 60, 70, 80, 90]"
   ]
  },
  {
   "cell_type": "code",
   "execution_count": null,
   "metadata": {},
   "outputs": [],
   "source": [
    "# will continue to next iteration"
   ]
  },
  {
   "cell_type": "code",
   "execution_count": 216,
   "metadata": {},
   "outputs": [
    {
     "name": "stdout",
     "output_type": "stream",
     "text": [
      "10\n",
      "Hello\n",
      "20\n",
      "Hello\n",
      "30\n",
      "Hello\n",
      "40\n",
      "Hello\n",
      "60\n",
      "Hello\n",
      "70\n",
      "Hello\n",
      "80\n",
      "Hello\n",
      "90\n",
      "Hello\n"
     ]
    }
   ],
   "source": [
    "for element in list_to_use:\n",
    "    if element == 50:\n",
    "        continue\n",
    "    print(element)\n",
    "    print(\"Hello\")\n",
    "    "
   ]
  },
  {
   "cell_type": "markdown",
   "metadata": {},
   "source": [
    "##### Break Statement"
   ]
  },
  {
   "cell_type": "code",
   "execution_count": null,
   "metadata": {},
   "outputs": [],
   "source": [
    "# will break out of current loop"
   ]
  },
  {
   "cell_type": "code",
   "execution_count": 218,
   "metadata": {},
   "outputs": [
    {
     "name": "stdout",
     "output_type": "stream",
     "text": [
      "10\n",
      "Hello\n",
      "20\n",
      "Hello\n",
      "30\n",
      "Hello\n",
      "40\n",
      "Hello\n"
     ]
    }
   ],
   "source": [
    "for element in list_to_use:\n",
    "    if element == 50:\n",
    "        break\n",
    "    print(element)\n",
    "    print(\"Hello\")"
   ]
  },
  {
   "cell_type": "markdown",
   "metadata": {},
   "source": [
    "##### Pass Statement"
   ]
  },
  {
   "cell_type": "code",
   "execution_count": null,
   "metadata": {},
   "outputs": [],
   "source": [
    "# mostly used as a placeholder, and will continue on same iteration"
   ]
  },
  {
   "cell_type": "code",
   "execution_count": 220,
   "metadata": {},
   "outputs": [
    {
     "name": "stdout",
     "output_type": "stream",
     "text": [
      "Hello\n"
     ]
    }
   ],
   "source": [
    "for num in list_to_use:\n",
    "    # Do something here later - just pass it for now and come back later\n",
    "    pass\n",
    "print(\"Hello\")"
   ]
  },
  {
   "cell_type": "code",
   "execution_count": 224,
   "metadata": {},
   "outputs": [
    {
     "name": "stdout",
     "output_type": "stream",
     "text": [
      "10\n",
      "20\n",
      "30\n",
      "40\n",
      "50\n",
      "60\n",
      "70\n",
      "80\n",
      "90\n"
     ]
    }
   ],
   "source": [
    "for num in list_to_use:\n",
    "    if num > 50:\n",
    "        pass\n",
    "    print(num)"
   ]
  },
  {
   "cell_type": "markdown",
   "metadata": {},
   "source": [
    "##### Nested/Double For Loops"
   ]
  },
  {
   "cell_type": "code",
   "execution_count": 232,
   "metadata": {},
   "outputs": [
    {
     "name": "stdout",
     "output_type": "stream",
     "text": [
      "i = 1, j = 1, k = 1\n",
      "i = 1, j = 1, k = 1\n",
      "i = 1, j = 1, k = 1\n",
      "i = 1, j = 1, k = 1\n",
      "i = 1, j = 1, k = 2\n",
      "i = 1, j = 1, k = 2\n",
      "i = 1, j = 1, k = 2\n",
      "i = 1, j = 1, k = 2\n",
      "i = 1, j = 1, k = 3\n",
      "i = 1, j = 1, k = 3\n",
      "i = 1, j = 1, k = 3\n",
      "i = 1, j = 1, k = 3\n",
      "i = 1, j = 1, k = 4\n",
      "i = 1, j = 1, k = 4\n",
      "i = 1, j = 1, k = 4\n",
      "i = 1, j = 1, k = 4\n",
      "i = 1, j = 2, k = 1\n",
      "i = 1, j = 2, k = 1\n",
      "i = 1, j = 2, k = 1\n",
      "i = 1, j = 2, k = 1\n",
      "i = 1, j = 2, k = 2\n",
      "i = 1, j = 2, k = 2\n",
      "i = 1, j = 2, k = 2\n",
      "i = 1, j = 2, k = 2\n",
      "i = 1, j = 2, k = 3\n",
      "i = 1, j = 2, k = 3\n",
      "i = 1, j = 2, k = 3\n",
      "i = 1, j = 2, k = 3\n",
      "i = 1, j = 2, k = 4\n",
      "i = 1, j = 2, k = 4\n",
      "i = 1, j = 2, k = 4\n",
      "i = 1, j = 2, k = 4\n",
      "i = 1, j = 3, k = 1\n",
      "i = 1, j = 3, k = 1\n",
      "i = 1, j = 3, k = 1\n",
      "i = 1, j = 3, k = 1\n",
      "i = 1, j = 3, k = 2\n",
      "i = 1, j = 3, k = 2\n",
      "i = 1, j = 3, k = 2\n",
      "i = 1, j = 3, k = 2\n",
      "i = 1, j = 3, k = 3\n",
      "i = 1, j = 3, k = 3\n",
      "i = 1, j = 3, k = 3\n",
      "i = 1, j = 3, k = 3\n",
      "i = 1, j = 3, k = 4\n",
      "i = 1, j = 3, k = 4\n",
      "i = 1, j = 3, k = 4\n",
      "i = 1, j = 3, k = 4\n",
      "i = 1, j = 4, k = 1\n",
      "i = 1, j = 4, k = 1\n",
      "i = 1, j = 4, k = 1\n",
      "i = 1, j = 4, k = 1\n",
      "i = 1, j = 4, k = 2\n",
      "i = 1, j = 4, k = 2\n",
      "i = 1, j = 4, k = 2\n",
      "i = 1, j = 4, k = 2\n",
      "i = 1, j = 4, k = 3\n",
      "i = 1, j = 4, k = 3\n",
      "i = 1, j = 4, k = 3\n",
      "i = 1, j = 4, k = 3\n",
      "i = 1, j = 4, k = 4\n",
      "i = 1, j = 4, k = 4\n",
      "i = 1, j = 4, k = 4\n",
      "i = 1, j = 4, k = 4\n",
      "i = 2, j = 1, k = 1\n",
      "i = 2, j = 1, k = 1\n",
      "i = 2, j = 1, k = 1\n",
      "i = 2, j = 1, k = 1\n",
      "i = 2, j = 1, k = 2\n",
      "i = 2, j = 1, k = 2\n",
      "i = 2, j = 1, k = 2\n",
      "i = 2, j = 1, k = 2\n",
      "i = 2, j = 1, k = 3\n",
      "i = 2, j = 1, k = 3\n",
      "i = 2, j = 1, k = 3\n",
      "i = 2, j = 1, k = 3\n",
      "i = 2, j = 1, k = 4\n",
      "i = 2, j = 1, k = 4\n",
      "i = 2, j = 1, k = 4\n",
      "i = 2, j = 1, k = 4\n",
      "i = 2, j = 2, k = 1\n",
      "i = 2, j = 2, k = 1\n",
      "i = 2, j = 2, k = 1\n",
      "i = 2, j = 2, k = 1\n",
      "i = 2, j = 2, k = 2\n",
      "i = 2, j = 2, k = 2\n",
      "i = 2, j = 2, k = 2\n",
      "i = 2, j = 2, k = 2\n",
      "i = 2, j = 2, k = 3\n",
      "i = 2, j = 2, k = 3\n",
      "i = 2, j = 2, k = 3\n",
      "i = 2, j = 2, k = 3\n",
      "i = 2, j = 2, k = 4\n",
      "i = 2, j = 2, k = 4\n",
      "i = 2, j = 2, k = 4\n",
      "i = 2, j = 2, k = 4\n",
      "i = 2, j = 3, k = 1\n",
      "i = 2, j = 3, k = 1\n",
      "i = 2, j = 3, k = 1\n",
      "i = 2, j = 3, k = 1\n",
      "i = 2, j = 3, k = 2\n",
      "i = 2, j = 3, k = 2\n",
      "i = 2, j = 3, k = 2\n",
      "i = 2, j = 3, k = 2\n",
      "i = 2, j = 3, k = 3\n",
      "i = 2, j = 3, k = 3\n",
      "i = 2, j = 3, k = 3\n",
      "i = 2, j = 3, k = 3\n",
      "i = 2, j = 3, k = 4\n",
      "i = 2, j = 3, k = 4\n",
      "i = 2, j = 3, k = 4\n",
      "i = 2, j = 3, k = 4\n",
      "i = 2, j = 4, k = 1\n",
      "i = 2, j = 4, k = 1\n",
      "i = 2, j = 4, k = 1\n",
      "i = 2, j = 4, k = 1\n",
      "i = 2, j = 4, k = 2\n",
      "i = 2, j = 4, k = 2\n",
      "i = 2, j = 4, k = 2\n",
      "i = 2, j = 4, k = 2\n",
      "i = 2, j = 4, k = 3\n",
      "i = 2, j = 4, k = 3\n",
      "i = 2, j = 4, k = 3\n",
      "i = 2, j = 4, k = 3\n",
      "i = 2, j = 4, k = 4\n",
      "i = 2, j = 4, k = 4\n",
      "i = 2, j = 4, k = 4\n",
      "i = 2, j = 4, k = 4\n",
      "i = 3, j = 1, k = 1\n",
      "i = 3, j = 1, k = 1\n",
      "i = 3, j = 1, k = 1\n",
      "i = 3, j = 1, k = 1\n",
      "i = 3, j = 1, k = 2\n",
      "i = 3, j = 1, k = 2\n",
      "i = 3, j = 1, k = 2\n",
      "i = 3, j = 1, k = 2\n",
      "i = 3, j = 1, k = 3\n",
      "i = 3, j = 1, k = 3\n",
      "i = 3, j = 1, k = 3\n",
      "i = 3, j = 1, k = 3\n",
      "i = 3, j = 1, k = 4\n",
      "i = 3, j = 1, k = 4\n",
      "i = 3, j = 1, k = 4\n",
      "i = 3, j = 1, k = 4\n",
      "i = 3, j = 2, k = 1\n",
      "i = 3, j = 2, k = 1\n",
      "i = 3, j = 2, k = 1\n",
      "i = 3, j = 2, k = 1\n",
      "i = 3, j = 2, k = 2\n",
      "i = 3, j = 2, k = 2\n",
      "i = 3, j = 2, k = 2\n",
      "i = 3, j = 2, k = 2\n",
      "i = 3, j = 2, k = 3\n",
      "i = 3, j = 2, k = 3\n",
      "i = 3, j = 2, k = 3\n",
      "i = 3, j = 2, k = 3\n",
      "i = 3, j = 2, k = 4\n",
      "i = 3, j = 2, k = 4\n",
      "i = 3, j = 2, k = 4\n",
      "i = 3, j = 2, k = 4\n",
      "i = 3, j = 3, k = 1\n",
      "i = 3, j = 3, k = 1\n",
      "i = 3, j = 3, k = 1\n",
      "i = 3, j = 3, k = 1\n",
      "i = 3, j = 3, k = 2\n",
      "i = 3, j = 3, k = 2\n",
      "i = 3, j = 3, k = 2\n",
      "i = 3, j = 3, k = 2\n",
      "i = 3, j = 3, k = 3\n",
      "i = 3, j = 3, k = 3\n",
      "i = 3, j = 3, k = 3\n",
      "i = 3, j = 3, k = 3\n",
      "i = 3, j = 3, k = 4\n",
      "i = 3, j = 3, k = 4\n",
      "i = 3, j = 3, k = 4\n",
      "i = 3, j = 3, k = 4\n",
      "i = 3, j = 4, k = 1\n",
      "i = 3, j = 4, k = 1\n",
      "i = 3, j = 4, k = 1\n",
      "i = 3, j = 4, k = 1\n",
      "i = 3, j = 4, k = 2\n",
      "i = 3, j = 4, k = 2\n",
      "i = 3, j = 4, k = 2\n",
      "i = 3, j = 4, k = 2\n",
      "i = 3, j = 4, k = 3\n",
      "i = 3, j = 4, k = 3\n",
      "i = 3, j = 4, k = 3\n",
      "i = 3, j = 4, k = 3\n",
      "i = 3, j = 4, k = 4\n",
      "i = 3, j = 4, k = 4\n",
      "i = 3, j = 4, k = 4\n",
      "i = 3, j = 4, k = 4\n",
      "i = 4, j = 1, k = 1\n",
      "i = 4, j = 1, k = 1\n",
      "i = 4, j = 1, k = 1\n",
      "i = 4, j = 1, k = 1\n",
      "i = 4, j = 1, k = 2\n",
      "i = 4, j = 1, k = 2\n",
      "i = 4, j = 1, k = 2\n",
      "i = 4, j = 1, k = 2\n",
      "i = 4, j = 1, k = 3\n",
      "i = 4, j = 1, k = 3\n",
      "i = 4, j = 1, k = 3\n",
      "i = 4, j = 1, k = 3\n",
      "i = 4, j = 1, k = 4\n",
      "i = 4, j = 1, k = 4\n",
      "i = 4, j = 1, k = 4\n",
      "i = 4, j = 1, k = 4\n",
      "i = 4, j = 2, k = 1\n",
      "i = 4, j = 2, k = 1\n",
      "i = 4, j = 2, k = 1\n",
      "i = 4, j = 2, k = 1\n",
      "i = 4, j = 2, k = 2\n",
      "i = 4, j = 2, k = 2\n",
      "i = 4, j = 2, k = 2\n",
      "i = 4, j = 2, k = 2\n",
      "i = 4, j = 2, k = 3\n",
      "i = 4, j = 2, k = 3\n",
      "i = 4, j = 2, k = 3\n",
      "i = 4, j = 2, k = 3\n",
      "i = 4, j = 2, k = 4\n",
      "i = 4, j = 2, k = 4\n",
      "i = 4, j = 2, k = 4\n",
      "i = 4, j = 2, k = 4\n",
      "i = 4, j = 3, k = 1\n",
      "i = 4, j = 3, k = 1\n",
      "i = 4, j = 3, k = 1\n",
      "i = 4, j = 3, k = 1\n",
      "i = 4, j = 3, k = 2\n",
      "i = 4, j = 3, k = 2\n",
      "i = 4, j = 3, k = 2\n",
      "i = 4, j = 3, k = 2\n",
      "i = 4, j = 3, k = 3\n",
      "i = 4, j = 3, k = 3\n",
      "i = 4, j = 3, k = 3\n",
      "i = 4, j = 3, k = 3\n",
      "i = 4, j = 3, k = 4\n",
      "i = 4, j = 3, k = 4\n",
      "i = 4, j = 3, k = 4\n",
      "i = 4, j = 3, k = 4\n",
      "i = 4, j = 4, k = 1\n",
      "i = 4, j = 4, k = 1\n",
      "i = 4, j = 4, k = 1\n",
      "i = 4, j = 4, k = 1\n",
      "i = 4, j = 4, k = 2\n",
      "i = 4, j = 4, k = 2\n",
      "i = 4, j = 4, k = 2\n",
      "i = 4, j = 4, k = 2\n",
      "i = 4, j = 4, k = 3\n",
      "i = 4, j = 4, k = 3\n",
      "i = 4, j = 4, k = 3\n",
      "i = 4, j = 4, k = 3\n",
      "i = 4, j = 4, k = 4\n",
      "i = 4, j = 4, k = 4\n",
      "i = 4, j = 4, k = 4\n",
      "i = 4, j = 4, k = 4\n"
     ]
    }
   ],
   "source": [
    "my_nums = [1, 2, 3, 4]\n",
    "\n",
    "for i in my_nums:\n",
    "    for j in my_nums:\n",
    "        for k in my_nums:\n",
    "            print(f\"i = {i}, j = {j}, k = {k}\")"
   ]
  },
  {
   "cell_type": "markdown",
   "metadata": {},
   "source": [
    "### While Loops"
   ]
  },
  {
   "cell_type": "code",
   "execution_count": 235,
   "metadata": {},
   "outputs": [
    {
     "name": "stdout",
     "output_type": "stream",
     "text": [
      "0\n",
      "1\n",
      "2\n",
      "3\n",
      "4\n",
      "5\n",
      "6\n",
      "7\n",
      "8\n",
      "9\n"
     ]
    }
   ],
   "source": [
    "# while <conditional>:\n",
    "#     <statement to run while condition is true>\n",
    "\n",
    "num = 0\n",
    "while num < 10:\n",
    "    print(num)\n",
    "    num += 1"
   ]
  },
  {
   "cell_type": "markdown",
   "metadata": {},
   "source": [
    "##### Looping 'While True'"
   ]
  },
  {
   "cell_type": "code",
   "execution_count": 236,
   "metadata": {},
   "outputs": [
    {
     "name": "stdout",
     "output_type": "stream",
     "text": [
      "Infinite Loop\n"
     ]
    }
   ],
   "source": [
    "game_over = False\n",
    "\n",
    "while True:\n",
    "    print('Infinite Loop')\n",
    "    if game_over == False:\n",
    "        break"
   ]
  },
  {
   "cell_type": "markdown",
   "metadata": {},
   "source": [
    "### Built-In Functions"
   ]
  },
  {
   "cell_type": "markdown",
   "metadata": {},
   "source": [
    "##### input()"
   ]
  },
  {
   "cell_type": "code",
   "execution_count": 1,
   "metadata": {},
   "outputs": [
    {
     "name": "stdout",
     "output_type": "stream",
     "text": [
      "What is your answer to the question? 75\n",
      "75\n"
     ]
    }
   ],
   "source": [
    "# input(question) => ALWAYS RETURNS A STRING\n",
    "\n",
    "answer = input('What is your answer to the question? ')\n",
    "print(answer)"
   ]
  },
  {
   "cell_type": "code",
   "execution_count": 2,
   "metadata": {},
   "outputs": [
    {
     "name": "stdout",
     "output_type": "stream",
     "text": [
      "How old are you? 25\n",
      "30\n"
     ]
    }
   ],
   "source": [
    "age = int(input(\"How old are you? \"))\n",
    "\n",
    "age_in_five = age + 5\n",
    "\n",
    "print(age_in_five)"
   ]
  },
  {
   "cell_type": "code",
   "execution_count": 3,
   "metadata": {},
   "outputs": [
    {
     "name": "stdout",
     "output_type": "stream",
     "text": [
      "Would you like to keep playing this game? y/n y\n",
      "Let's go!\n",
      "Would you like to keep playing this game? y/n y\n",
      "Let's go!\n",
      "Would you like to keep playing this game? y/n y\n",
      "Let's go!\n",
      "Would you like to keep playing this game? y/n n\n",
      "Game Over!\n"
     ]
    }
   ],
   "source": [
    "while True:\n",
    "    keep_playing = input('Would you like to keep playing this game? y/n ')\n",
    "    if keep_playing == 'n':\n",
    "        print(\"Game Over!\")\n",
    "        break\n",
    "    else:\n",
    "        print(\"Let's go!\")\n",
    "    "
   ]
  },
  {
   "cell_type": "markdown",
   "metadata": {},
   "source": [
    "##### range()"
   ]
  },
  {
   "cell_type": "code",
   "execution_count": 4,
   "metadata": {},
   "outputs": [
    {
     "data": {
      "text/plain": [
       "[0, 1, 2, 3, 4, 5, 6, 7, 8, 9]"
      ]
     },
     "execution_count": 4,
     "metadata": {},
     "output_type": "execute_result"
    }
   ],
   "source": [
    "# range(stop) -> goes from 0 up to, but not including, stop\n",
    "\n",
    "list(range(10))"
   ]
  },
  {
   "cell_type": "code",
   "execution_count": 5,
   "metadata": {},
   "outputs": [
    {
     "data": {
      "text/plain": [
       "[10, 11, 12, 13, 14, 15, 16, 17, 18, 19]"
      ]
     },
     "execution_count": 5,
     "metadata": {},
     "output_type": "execute_result"
    }
   ],
   "source": [
    "#Start, Stop, Step\n",
    "list(range(10,20))"
   ]
  },
  {
   "cell_type": "code",
   "execution_count": 6,
   "metadata": {},
   "outputs": [
    {
     "data": {
      "text/plain": [
       "[10, 12, 14, 16, 18]"
      ]
     },
     "execution_count": 6,
     "metadata": {},
     "output_type": "execute_result"
    }
   ],
   "source": [
    "list(range(10,20,2))"
   ]
  },
  {
   "cell_type": "markdown",
   "metadata": {},
   "source": [
    "##### len()"
   ]
  },
  {
   "cell_type": "code",
   "execution_count": 9,
   "metadata": {},
   "outputs": [
    {
     "name": "stdout",
     "output_type": "stream",
     "text": [
      "4\n"
     ]
    }
   ],
   "source": [
    "# check Length of variable\n",
    "cities = ['chicago', 'new york', 'los angeles', 'seattle']\n",
    "\n",
    "print(len(cities))"
   ]
  },
  {
   "cell_type": "code",
   "execution_count": 10,
   "metadata": {},
   "outputs": [
    {
     "name": "stdout",
     "output_type": "stream",
     "text": [
      "12\n"
     ]
    }
   ],
   "source": [
    "name = 'lionel messi'\n",
    "\n",
    "print(len(name))"
   ]
  },
  {
   "cell_type": "code",
   "execution_count": 15,
   "metadata": {},
   "outputs": [
    {
     "name": "stdout",
     "output_type": "stream",
     "text": [
      "0 chicago\n",
      "1 new york\n",
      "2 los angeles\n",
      "3 seattle\n"
     ]
    }
   ],
   "source": [
    "for index in range(len(cities)):\n",
    "    print(index, cities[index])"
   ]
  },
  {
   "cell_type": "markdown",
   "metadata": {},
   "source": [
    "##### help()"
   ]
  },
  {
   "cell_type": "code",
   "execution_count": 11,
   "metadata": {},
   "outputs": [
    {
     "name": "stdout",
     "output_type": "stream",
     "text": [
      "Help on class range in module builtins:\n",
      "\n",
      "class range(object)\n",
      " |  range(stop) -> range object\n",
      " |  range(start, stop[, step]) -> range object\n",
      " |  \n",
      " |  Return an object that produces a sequence of integers from start (inclusive)\n",
      " |  to stop (exclusive) by step.  range(i, j) produces i, i+1, i+2, ..., j-1.\n",
      " |  start defaults to 0, and stop is omitted!  range(4) produces 0, 1, 2, 3.\n",
      " |  These are exactly the valid indices for a list of 4 elements.\n",
      " |  When step is given, it specifies the increment (or decrement).\n",
      " |  \n",
      " |  Methods defined here:\n",
      " |  \n",
      " |  __bool__(self, /)\n",
      " |      True if self else False\n",
      " |  \n",
      " |  __contains__(self, key, /)\n",
      " |      Return key in self.\n",
      " |  \n",
      " |  __eq__(self, value, /)\n",
      " |      Return self==value.\n",
      " |  \n",
      " |  __ge__(self, value, /)\n",
      " |      Return self>=value.\n",
      " |  \n",
      " |  __getattribute__(self, name, /)\n",
      " |      Return getattr(self, name).\n",
      " |  \n",
      " |  __getitem__(self, key, /)\n",
      " |      Return self[key].\n",
      " |  \n",
      " |  __gt__(self, value, /)\n",
      " |      Return self>value.\n",
      " |  \n",
      " |  __hash__(self, /)\n",
      " |      Return hash(self).\n",
      " |  \n",
      " |  __iter__(self, /)\n",
      " |      Implement iter(self).\n",
      " |  \n",
      " |  __le__(self, value, /)\n",
      " |      Return self<=value.\n",
      " |  \n",
      " |  __len__(self, /)\n",
      " |      Return len(self).\n",
      " |  \n",
      " |  __lt__(self, value, /)\n",
      " |      Return self<value.\n",
      " |  \n",
      " |  __ne__(self, value, /)\n",
      " |      Return self!=value.\n",
      " |  \n",
      " |  __reduce__(...)\n",
      " |      Helper for pickle.\n",
      " |  \n",
      " |  __repr__(self, /)\n",
      " |      Return repr(self).\n",
      " |  \n",
      " |  __reversed__(...)\n",
      " |      Return a reverse iterator.\n",
      " |  \n",
      " |  count(...)\n",
      " |      rangeobject.count(value) -> integer -- return number of occurrences of value\n",
      " |  \n",
      " |  index(...)\n",
      " |      rangeobject.index(value) -> integer -- return index of value.\n",
      " |      Raise ValueError if the value is not present.\n",
      " |  \n",
      " |  ----------------------------------------------------------------------\n",
      " |  Static methods defined here:\n",
      " |  \n",
      " |  __new__(*args, **kwargs) from builtins.type\n",
      " |      Create and return a new object.  See help(type) for accurate signature.\n",
      " |  \n",
      " |  ----------------------------------------------------------------------\n",
      " |  Data descriptors defined here:\n",
      " |  \n",
      " |  start\n",
      " |  \n",
      " |  step\n",
      " |  \n",
      " |  stop\n",
      "\n"
     ]
    }
   ],
   "source": [
    "# Use this function to view more info about a python function (With a DOCSTRING)\n",
    "help(range)"
   ]
  },
  {
   "cell_type": "markdown",
   "metadata": {},
   "source": [
    "##### isinstance()"
   ]
  },
  {
   "cell_type": "code",
   "execution_count": 20,
   "metadata": {},
   "outputs": [
    {
     "name": "stdout",
     "output_type": "stream",
     "text": [
      "True\n",
      "False\n"
     ]
    }
   ],
   "source": [
    "# Check a variable to find out what Object family it belongs to\n",
    "# isinstace(var, type)\n",
    "\n",
    "some_num = 45\n",
    "\n",
    "print(isinstance(some_num, int))\n",
    "print(isinstance(some_num, float))"
   ]
  },
  {
   "cell_type": "markdown",
   "metadata": {},
   "source": [
    "### Try and Except"
   ]
  },
  {
   "cell_type": "code",
   "execution_count": null,
   "metadata": {},
   "outputs": [],
   "source": [
    "# use whenever you expect to encounter a bug so that the error doesn't cause the program to stop\n",
    "# Use so that you can log out graceful and useful error messages\n",
    "\n"
   ]
  },
  {
   "cell_type": "markdown",
   "metadata": {},
   "source": [
    "##### Looping Through Lists"
   ]
  },
  {
   "cell_type": "code",
   "execution_count": null,
   "metadata": {},
   "outputs": [],
   "source": [
    "# two ways to loop through a list, using range for index and in for values\n",
    "\n",
    "# Loop with a for loop (By Index)\n",
    "\n",
    "    \n",
    "# Loop with a for loop (Using the 'in' keyword)\n",
    "\n"
   ]
  },
  {
   "cell_type": "markdown",
   "metadata": {},
   "source": [
    "## Exercise #1 <br>\n",
    "<p>Cube Number Test... Print out all cubed numbers up to the total value 1000. Meaning that if the cubed number is over 1000 break the loop.</p>"
   ]
  },
  {
   "cell_type": "code",
   "execution_count": 48,
   "metadata": {},
   "outputs": [
    {
     "name": "stdout",
     "output_type": "stream",
     "text": [
      "0\n",
      "1\n",
      "8\n",
      "27\n",
      "64\n",
      "125\n",
      "216\n",
      "343\n",
      "512\n",
      "729\n",
      "1000\n"
     ]
    }
   ],
   "source": [
    "list_num = range(0,1001)\n",
    "\n",
    "for num in list_num:\n",
    "    if num*num*num <= 1000:\n",
    "        print(num*num*num)\n",
    "    \n",
    "        \n",
    "        \n"
   ]
  },
  {
   "cell_type": "markdown",
   "metadata": {},
   "source": [
    "## Exercise #2 <br>\n",
    "<p>Get first prime numbers up to 100</p>"
   ]
  },
  {
   "cell_type": "code",
   "execution_count": 37,
   "metadata": {},
   "outputs": [
    {
     "name": "stdout",
     "output_type": "stream",
     "text": [
      "2\n",
      "3\n",
      "5\n",
      "7\n",
      "11\n",
      "13\n",
      "17\n",
      "19\n",
      "23\n",
      "29\n",
      "31\n",
      "37\n",
      "41\n",
      "43\n",
      "47\n",
      "53\n",
      "59\n",
      "61\n",
      "67\n",
      "71\n",
      "73\n",
      "79\n",
      "83\n",
      "89\n",
      "97\n"
     ]
    }
   ],
   "source": [
    "# HINT::\n",
    "# An else after an if runs if the if didn’t\n",
    "# An else after a for runs if the for didn’t break\n",
    "\n",
    "numbers = range(1,101)\n",
    "for number in numbers:\n",
    "    if number > 1:\n",
    "        for i in range(2,number):\n",
    "            if (number % i) == 0:  \n",
    "                break  \n",
    "        else:  \n",
    "               print (number) \n",
    "\n",
    "    \n",
    "    \n"
   ]
  },
  {
   "cell_type": "markdown",
   "metadata": {},
   "source": [
    "# Exercise 3 <br>\n",
    "<p>Take in a users input for their age, if they are younger than 18 print kids, if they're 18 to 65 print adults, else print seniors</p>"
   ]
  },
  {
   "cell_type": "code",
   "execution_count": 42,
   "metadata": {},
   "outputs": [
    {
     "name": "stdout",
     "output_type": "stream",
     "text": [
      "How old are you? 64\n",
      "You're an adult!\n"
     ]
    }
   ],
   "source": [
    "user_age = input(\"How old are you? \")\n",
    "\n",
    "if int(user_age) < 18:\n",
    "    print(\"You're a kid!\")\n",
    "elif int(user_age) < 65:\n",
    "    print(\"You're an adult!\")\n",
    "else:\n",
    "    print(\"You're a senior citizen!\")"
   ]
  }
 ],
 "metadata": {
  "kernelspec": {
   "display_name": "Python 3 (ipykernel)",
   "language": "python",
   "name": "python3"
  },
  "language_info": {
   "codemirror_mode": {
    "name": "ipython",
    "version": 3
   },
   "file_extension": ".py",
   "mimetype": "text/x-python",
   "name": "python",
   "nbconvert_exporter": "python",
   "pygments_lexer": "ipython3",
   "version": "3.9.12"
  }
 },
 "nbformat": 4,
 "nbformat_minor": 2
}
