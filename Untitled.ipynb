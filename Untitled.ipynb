{
 "cells": [
  {
   "cell_type": "markdown",
   "id": "72ff3b35",
   "metadata": {},
   "source": [
    "***Python Pre-work***"
   ]
  },
  {
   "cell_type": "markdown",
   "id": "b6e92acd",
   "metadata": {},
   "source": [
    "Question 1\n",
    "Write a function to print \"hello_USERNAME!\" USERNAME is the input of the function. The first line of the code has been defined as below. def hello_name(user_name):"
   ]
  },
  {
   "cell_type": "code",
   "execution_count": 1,
   "id": "3d32cfc7",
   "metadata": {},
   "outputs": [
    {
     "name": "stdout",
     "output_type": "stream",
     "text": [
      "Answer 1:\n",
      "hello_TERRYKUB!\n"
     ]
    }
   ],
   "source": [
    "user_name = 'terrykub'\n",
    "\n",
    "def hello_name(user_name):\n",
    "\t\"\"\"Prints \"hello_USERNAME!\" \"\"\"\n",
    "\tprint(\"hello_\" + user_name.upper() + \"!\")\n",
    "\n",
    "print(\"Answer 1:\")\n",
    "hello_name(user_name)"
   ]
  },
  {
   "cell_type": "markdown",
   "id": "6ca29d87",
   "metadata": {},
   "source": [
    "Question 2\n",
    "Write a python function, first_odds that prints the odd numbers from 1-100 and returns nothing def first_odds():"
   ]
  },
  {
   "cell_type": "code",
   "execution_count": 2,
   "id": "cf9ecad9",
   "metadata": {},
   "outputs": [
    {
     "name": "stdout",
     "output_type": "stream",
     "text": [
      "Answer 2:\n"
     ]
    }
   ],
   "source": [
    "print(\"Answer 2:\")\n",
    "\n",
    "def first_odds():\n",
    "\t\"\"\"Prints odd number from 1-100 but returns nothing\"\"\"\n",
    "\tnumber = 0\n",
    "\twhile number < 100:\n",
    "\t\tnumber += 1\n",
    "\t\tif number % 2 == 1:\n",
    "\t\t\tcontinue\n",
    "\t\telse:\n",
    "\t\t\tcontinue\n",
    "\t\tprint(number)\n",
    "\t\n",
    "\n",
    "first_odds()"
   ]
  },
  {
   "cell_type": "markdown",
   "id": "7074ad66",
   "metadata": {},
   "source": [
    "Question 3\n",
    "Please write a Python function, max_num_in_list to return the max number of a given list. The first line of the code has been defined as below. def max_num_in_list(a_list):"
   ]
  },
  {
   "cell_type": "code",
   "execution_count": 13,
   "id": "473e3c22",
   "metadata": {},
   "outputs": [
    {
     "name": "stdout",
     "output_type": "stream",
     "text": [
      "Answer 3:\n"
     ]
    },
    {
     "data": {
      "text/plain": [
       "150"
      ]
     },
     "execution_count": 13,
     "metadata": {},
     "output_type": "execute_result"
    }
   ],
   "source": [
    "print(\"Answer 3:\")\n",
    "\n",
    "def max_num_in_list(a_list):\n",
    "    \"\"\"\"Returns the max number of a given list\"\"\"\n",
    "    max_val = max(a_list)\n",
    "    return max_val\n",
    "\n",
    "max_num_in_list([10,50,99,3,17,150])"
   ]
  },
  {
   "cell_type": "markdown",
   "id": "8c2cd4e2",
   "metadata": {},
   "source": [
    "Question 4\n",
    "Write a function to return if the given year is a leap year. A leap year is divisible by 4, but not divisible by 100 unless it is also divisible by 400. The return should be boolean Type (true/false). def is_leap_year(a_year):"
   ]
  },
  {
   "cell_type": "code",
   "execution_count": 20,
   "id": "9fb592c1",
   "metadata": {},
   "outputs": [
    {
     "name": "stdout",
     "output_type": "stream",
     "text": [
      "Answer 4:\n",
      "Type in any year and I'll let you know if it's a leap year: 2020\n",
      "2020 is a leap year!\n"
     ]
    }
   ],
   "source": [
    "print(\"Answer 4:\")\n",
    "\n",
    "a_year = input(\"Type in any year and I'll let you know if it's a leap year: \")\n",
    "\n",
    "def is_leap_year(a_year):\n",
    "\t\"\"\"Returns if a given year is a leap year\"\"\"\t\n",
    "\tif (int(a_year) % 4 == 0 and int(a_year) % 100 != 0) or int(a_year) % 400 == 0:\n",
    "\t\tprint(str(a_year) + \" is a leap year!\")\n",
    "\telse:\n",
    "\t\tprint(str(a_year) + \" is not a leap year!\")\n",
    "\t\n",
    "is_leap_year(a_year)"
   ]
  },
  {
   "cell_type": "markdown",
   "id": "ba55e983",
   "metadata": {},
   "source": [
    "Question 5\n",
    "Write a function to check to see if all numbers in the list are consecutive numbers. For example, [2,3,4,5,6,7] are consecutive numbers, but [1,2,4,5] are not consecutive numbers. The return should be boolean Type. def is_consecutive(a_list):"
   ]
  },
  {
   "cell_type": "code",
   "execution_count": 21,
   "id": "156810b1",
   "metadata": {},
   "outputs": [
    {
     "name": "stdout",
     "output_type": "stream",
     "text": [
      "Answer 5:\n",
      "(to really see this code in action please enter a list of numbers into 'a_list = []' before running it)\n",
      "\n",
      "[2, 3, 4, 5, 6]\n",
      "This list is in consecutive order!\n"
     ]
    }
   ],
   "source": [
    "print(\"Answer 5:\")\n",
    "print(\"(to really see this code in action please enter a list of numbers into 'a_list = []' before running it)\\n\")\n",
    "\n",
    "a_list = [1,9,2,3]\n",
    "\n",
    "def is_consecutive(a_list):\n",
    "\t\"\"\"Returns whether a numerical list is in consecutive order.\"\"\"\n",
    "\tif a_list != sorted(a_list):\n",
    "\t\tprint(str(a_list) + \"\\nThis list is not in consecutive order!\")\n",
    "\telse:\n",
    "\t\tprint(str(a_list) + \"\\nThis list is in consecutive order!\")\n",
    "\t\t\n",
    "is_consecutive(a_list)"
   ]
  },
  {
   "cell_type": "code",
   "execution_count": null,
   "id": "49c85fee",
   "metadata": {},
   "outputs": [],
   "source": []
  }
 ],
 "metadata": {
  "kernelspec": {
   "display_name": "Python 3 (ipykernel)",
   "language": "python",
   "name": "python3"
  },
  "language_info": {
   "codemirror_mode": {
    "name": "ipython",
    "version": 3
   },
   "file_extension": ".py",
   "mimetype": "text/x-python",
   "name": "python",
   "nbconvert_exporter": "python",
   "pygments_lexer": "ipython3",
   "version": "3.9.12"
  }
 },
 "nbformat": 4,
 "nbformat_minor": 5
}
